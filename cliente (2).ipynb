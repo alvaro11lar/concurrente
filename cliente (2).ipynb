{
 "cells": [
  {
   "cell_type": "markdown",
   "id": "a9b4a433-fec8-4f9a-8390-f10f0e051ed7",
   "metadata": {},
   "source": [
    "## CREATE CLASS"
   ]
  },
  {
   "cell_type": "code",
   "execution_count": 1,
   "id": "db562623-b636-4488-ae81-88d98285af54",
   "metadata": {},
   "outputs": [],
   "source": [
    "import threading as th, os, socket as sc, pickle as pc, sys"
   ]
  },
  {
   "cell_type": "code",
   "execution_count": 2,
   "id": "7080f18b-a440-4dcd-a6fa-ab33e36f2960",
   "metadata": {},
   "outputs": [
    {
     "name": "stdin",
     "output_type": "stream",
     "text": [
      "Deme el peuerto 54215\n",
      "Introduzca su Nickname ñlop\n"
     ]
    }
   ],
   "source": [
    "class Client():\n",
    "    def _init_(self, host= sc.gethostname(), port = int(input(\"Deme el peuerto\")), nick =input(\"Introduzca su Nickname\")):\n",
    "        self.s=sc.socket() # aqui creamos el socket\n",
    "        self.s.connect((host,port)) # aqui ponemos el host y el port para la conexion\n",
    "        self.send('$'+nick) # aqui enviamos la informacion \n",
    "        \n",
    "        th.Thread(target=self.recive, daemon=True).start()\n",
    "        while True:\n",
    "            msg=input(\"Escriba mensaje.. ? ****** Salir = 1\")\n",
    "            if msg == '1':self.send(msg) \n",
    "            else:\n",
    "                self.s.close()\n",
    "                sys.exit(\"Bye\")\n",
    "                \n",
    "    def recibir(self):\n",
    "        while True:\n",
    "            try:\n",
    "                data= self.sock.rec(32) # lo quehace esta linea es que nos da el espacio para data\n",
    "                if data:\n",
    "                    print(pc.loads)\n",
    "            except:\n",
    "                pass\n",
    "    \n",
    "    def enviar(self):\n",
    "        self.sock.send(pc.dumps(msg))\n",
    "        \n",
    "start=Client()"
   ]
  },
  {
   "cell_type": "code",
   "execution_count": null,
   "id": "990e0ac6-30d7-4522-b97f-515f834cef7a",
   "metadata": {},
   "outputs": [],
   "source": []
  }
 ],
 "metadata": {
  "kernelspec": {
   "display_name": "Python 3 (ipykernel)",
   "language": "python",
   "name": "python3"
  },
  "language_info": {
   "codemirror_mode": {
    "name": "ipython",
    "version": 3
   },
   "file_extension": ".py",
   "mimetype": "text/x-python",
   "name": "python",
   "nbconvert_exporter": "python",
   "pygments_lexer": "ipython3",
   "version": "3.11.0"
  }
 },
 "nbformat": 4,
 "nbformat_minor": 5
}
