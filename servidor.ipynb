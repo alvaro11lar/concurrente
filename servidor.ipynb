{
 "cells": [
  {
   "cell_type": "markdown",
   "id": "3b2858a0-d86e-4b69-845a-a015cd05babd",
   "metadata": {},
   "source": [
    "\n"
   ]
  },
  {
   "cell_type": "markdown",
   "id": "ddccb699-3e85-404d-8c34-c2b4eebcb73e",
   "metadata": {},
   "source": [
    "## CREATE A CLASS"
   ]
  },
  {
   "cell_type": "code",
   "execution_count": 3,
   "id": "ad7f404a-f32a-4ace-916a-5664a1f1bf64",
   "metadata": {},
   "outputs": [],
   "source": [
    "import threading as th, os, socket as sc, pickle as pc,sys"
   ]
  },
  {
   "cell_type": "code",
   "execution_count": null,
   "id": "3c83a95b-0397-4092-8701-893b551602fb",
   "metadata": {},
   "outputs": [
    {
     "name": "stdin",
     "output_type": "stream",
     "text": [
      "Ingrese el puerto 65240\n",
      "Ingrese su nickname ñlop\n",
      "Ingrese su nick sdew\n"
     ]
    }
   ],
   "source": [
    "class server(): #para instaciar\n",
    "    def _init_(self, host= sc.gethostbyname(sc.gethostname()), port=int(input(\"Ingrese el puerto\")), nick =input(\"Ingrese su nickname\")):\n",
    "               self.nicks= []\n",
    "               self.clients= []\n",
    "               \n",
    "               \n",
    "               self.s=sc.socket() #creo el socket\n",
    "               self.s.bind((host,port)) #asocio el socket a la ip y puerto\n",
    "               self.s.setblocking(False) #evito bloqueos\n",
    "               self.s.listen(10)#numro de veces antes de refusee a conn\n",
    "            \n",
    "               th.Thread(target=self.accept, daemon=True).start()\n",
    "               th.Thread(target=self.process, daemon= True).start()               \n",
    "               while True:\n",
    "\n",
    "                   if msg =='1':\n",
    "                       self.s.close\n",
    "                       sys.exit(\"Bye\")\n",
    "                   else:pass\n",
    "               \n",
    "               \n",
    "    def accept(self):\n",
    "        while True:\n",
    "            conn,addr =s.accept()\n",
    "            conn, setblocking(False)\n",
    "            print(f'Conn aceptada via {addr}\\n')\n",
    "            self.clients.append(conn)\n",
    "            \n",
    "               \n",
    "    def process(self):\n",
    "        while True:\n",
    "            if len(self.clients)>0:\n",
    "                for c in self.clients:\n",
    "                    data = c.recv(32)\n",
    "                    msg = pc.loads(data)\n",
    "                    if data:self.broad(data,c)\n",
    "                    \n",
    "                    \n",
    "    def broad(self,msg,client):\n",
    "        for c in self.clients:\n",
    "            print('Conectados :', len(self.clients))\n",
    "            print(*self.nicks, sep=\"\\n\")\n",
    "            if len(self.nicks)>0:\n",
    "                for n in self.clients:\n",
    "                     if n==client:\n",
    "                        num=self.clients.index(n)\n",
    "                msg_nick=self.nicks[num]+\":\" +pc.loads(msg)\n",
    "                print(msg_nick)\n",
    "                c.send(pc.dumps(msg_nick))\n",
    "                \n",
    "                with open('mi_exp.txt', 'a') as f:\n",
    "                    f.write('\\n'+msg_nick)\n",
    "\n",
    "    while True:\n",
    "        with open('mi_exp.txt','a') as f:\n",
    "            nick =input (\"Ingrese su nick\")\n",
    "            f.write(nick)\n",
    "        \n",
    "\n",
    "        \n",
    "    while True:\n",
    "        msg= input('Escriba mensaje.....? << ENTER = Enviar        Salir=1')\n",
    "        if msg == '1':\n",
    "            print (\"Salgo\")\n",
    "            sys.exit(\"adad\")\n",
    "        else:\n",
    "            print(\"entro en pass\")\n",
    "            pass\n",
    "        \n",
    "        print (\"sddda\")           \n",
    "            \n",
    "            \n",
    "            \n",
    "start = server()\n",
    "\n",
    "                   \n",
    "    \n",
    "                "
   ]
  },
  {
   "cell_type": "code",
   "execution_count": null,
   "id": "fe005d9b-c73a-4a63-a43d-811a30da93fa",
   "metadata": {},
   "outputs": [],
   "source": []
  }
 ],
 "metadata": {
  "kernelspec": {
   "display_name": "Python 3 (ipykernel)",
   "language": "python",
   "name": "python3"
  },
  "language_info": {
   "codemirror_mode": {
    "name": "ipython",
    "version": 3
   },
   "file_extension": ".py",
   "mimetype": "text/x-python",
   "name": "python",
   "nbconvert_exporter": "python",
   "pygments_lexer": "ipython3",
   "version": "3.11.0"
  }
 },
 "nbformat": 4,
 "nbformat_minor": 5
}
